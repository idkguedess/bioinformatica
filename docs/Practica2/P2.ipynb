{
 "cells": [
  {
   "cell_type": "markdown",
   "id": "285a7582",
   "metadata": {},
   "source": [
    "# Práctica 2 - Del ADN a la proteína"
   ]
  },
  {
   "cell_type": "markdown",
   "id": "ee749c58",
   "metadata": {},
   "source": [
    "## Ejercicio 1 - Replicación del ADN"
   ]
  },
  {
   "cell_type": "markdown",
   "id": "60c3be62",
   "metadata": {},
   "source": [
    "### Respuesta\n",
    "\n",
    "Se consideran las siguientes secuencias de ADN: \n",
    "5' - ATG CCG TTA GCT - 3'\n",
    "3' - TAC GGC AAT CGA - 5'\n",
    "\n",
    "Se procede a realizar una ronda de replicación, cuyo resultado serán las siguientes hebras:\n",
    "\n",
    "5' - ATG CCG TTA GCT - 3'\n",
    "3' - TAC GGC AAT CGA - 5'\n",
    "\n",
    "5' - AGC TAA CGG CAT - 3'\n",
    "3' - TCG ATT GCC GTA - 5'"
   ]
  },
  {
   "cell_type": "code",
   "execution_count": null,
   "id": "ed024f5d",
   "metadata": {},
   "outputs": [
    {
     "name": "stdout",
     "output_type": "stream",
     "text": [
      "Secuencia (5'->3'): ATGCCGTTAGCT\n",
      "Complementaria (5'->3'): TACGGCAATCGA\n"
     ]
    }
   ],
   "source": [
    "from Bio.Seq import Seq\n",
    "\n",
    "seq = Seq(\"ATGCCGTTAGCT\")d \n",
    "complement = seq.complement()\n",
    "print(\"Secuencia (5'->3'):\", seq)\n",
    "print(\"Complementaria (5'->3'):\", complement)"
   ]
  }
 ],
 "metadata": {
  "kernelspec": {
   "display_name": "Python 3",
   "language": "python",
   "name": "python3"
  },
  "language_info": {
   "codemirror_mode": {
    "name": "ipython",
    "version": 3
   },
   "file_extension": ".py",
   "mimetype": "text/x-python",
   "name": "python",
   "nbconvert_exporter": "python",
   "pygments_lexer": "ipython3",
   "version": "3.13.7"
  }
 },
 "nbformat": 4,
 "nbformat_minor": 5
}
